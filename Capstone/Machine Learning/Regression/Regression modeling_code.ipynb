{
 "cells": [
  {
   "cell_type": "markdown",
   "id": "ae40e038-b169-4dc9-b806-2546b06348c9",
   "metadata": {},
   "source": [
    "## Regression Modeling and Evaluation"
   ]
  },
  {
   "cell_type": "markdown",
   "id": "bc3b52eb-0fdd-437d-8314-55a5a0f84bd9",
   "metadata": {
    "jp-MarkdownHeadingCollapsed": true,
    "tags": []
   },
   "source": [
    "* ##### Eunji Hwang (22100809)"
   ]
  },
  {
   "cell_type": "markdown",
   "id": "3f4765b2-8313-4bdc-934c-cd0f00574730",
   "metadata": {},
   "source": [
    "### Problem Overview  \n",
    "- #### Implementation of the Multi-Layer Perceptron (MLP) with the Backpropagation algorithm for addressing a regression problem"
   ]
  },
  {
   "cell_type": "markdown",
   "id": "016c50b7-aa62-4417-8da6-016731007119",
   "metadata": {},
   "source": [
    "### 1) Import Libraries & load data"
   ]
  },
  {
   "cell_type": "code",
   "execution_count": 1,
   "id": "024c2872-6fe6-4fba-9a04-671fbde56642",
   "metadata": {},
   "outputs": [
    {
     "name": "stderr",
     "output_type": "stream",
     "text": [
      "/Users/hwang-eunji/opt/anaconda3/lib/python3.9/site-packages/threadpoolctl.py:1214: RuntimeWarning: \n",
      "Found Intel OpenMP ('libiomp') and LLVM OpenMP ('libomp') loaded at\n",
      "the same time. Both libraries are known to be incompatible and this\n",
      "can cause random crashes or deadlocks on Linux when loaded in the\n",
      "same Python program.\n",
      "Using threadpoolctl may cause crashes or deadlocks. For more\n",
      "information and possible workarounds, please see\n",
      "    https://github.com/joblib/threadpoolctl/blob/master/multiple_openmp.md\n",
      "\n",
      "  warnings.warn(msg, RuntimeWarning)\n"
     ]
    }
   ],
   "source": [
    "import torch\n",
    "import torch.nn as nn\n",
    "import torch.optim as optim\n",
    "from sklearn.model_selection import train_test_split\n",
    "from sklearn.preprocessing import StandardScaler\n",
    "import pandas as pd\n",
    "import numpy as np\n",
    "\n",
    "# Load the dataset\n",
    "data = pd.read_csv('20190120_Time_8_Altitude_22_Eastward_wind.csv')\n"
   ]
  },
  {
   "cell_type": "markdown",
   "id": "6daee4f0-764c-421f-a192-27e23d13ca3c",
   "metadata": {},
   "source": [
    "### 2) Data Pre-processing "
   ]
  },
  {
   "cell_type": "code",
   "execution_count": 2,
   "id": "2765403e-7531-451d-bf5c-65951242ad46",
   "metadata": {},
   "outputs": [
    {
     "data": {
      "text/plain": [
       "0"
      ]
     },
     "execution_count": 2,
     "metadata": {},
     "output_type": "execute_result"
    }
   ],
   "source": [
    "data.isnull().sum().sum() # checking for NA"
   ]
  },
  {
   "cell_type": "code",
   "execution_count": 3,
   "id": "c8523407-2493-47ef-9b73-76e22c1d8e8f",
   "metadata": {},
   "outputs": [
    {
     "data": {
      "text/plain": [
       "Longitude (deg)          int64\n",
       "Latitude (deg)           int64\n",
       "Eastward wind (m/s)    float64\n",
       "dtype: object"
      ]
     },
     "execution_count": 3,
     "metadata": {},
     "output_type": "execute_result"
    }
   ],
   "source": [
    "data.dtypes # checking for data types"
   ]
  },
  {
   "cell_type": "code",
   "execution_count": 4,
   "id": "e0e9121f-2ed6-47b1-888b-386d5c1dc449",
   "metadata": {},
   "outputs": [],
   "source": [
    "# Convert Data type into float 32 \n",
    "data['Longitude (deg)'] = data['Longitude (deg)'].astype(np.float32)\n",
    "data['Latitude (deg)'] = data['Latitude (deg)'].astype(np.float32)"
   ]
  },
  {
   "cell_type": "code",
   "execution_count": 5,
   "id": "8a32b454-5898-48c3-9ee5-9e95a2a32a7b",
   "metadata": {},
   "outputs": [],
   "source": [
    "# Divide with Target and Feature\n",
    "# x: feature varialbe\n",
    "# y: target variable \n",
    "x = data[['Longitude (deg)', 'Latitude (deg)']].values \n",
    "y = data['Eastward wind (m/s)'].values.reshape(-1, 1)  # transform into colum vector\n"
   ]
  },
  {
   "cell_type": "code",
   "execution_count": 6,
   "id": "2b1b9ec9-7be8-40a7-8548-09150c091ba3",
   "metadata": {},
   "outputs": [],
   "source": [
    "# Create a StandardScaler instance to scale attribute data\n",
    "scaler = StandardScaler()\n",
    "\n",
    "# Apply scaler to data x, y\n",
    "X_scaled = scaler.fit_transform(x)\n",
    "y_scaled = scaler.fit_transform(y)"
   ]
  },
  {
   "cell_type": "code",
   "execution_count": 7,
   "id": "59942660-e442-4a72-a2d9-8852310ecc06",
   "metadata": {},
   "outputs": [],
   "source": [
    "# Split training data and test data, 20% of the total data is the test data\n",
    "X_train, X_test, y_train, y_test = train_test_split(X_scaled, y_scaled, test_size=0.2, random_state=42)\n",
    "\n",
    "\n",
    "\n",
    "# Converting training data and test data in the form of Numpy arrays to the form of PyTorch's tensor\n",
    "X_train = torch.tensor(X_train, dtype=torch.float32) \n",
    "X_test = torch.tensor(X_test, dtype=torch.float32)\n",
    "y_train = torch.tensor(y_train, dtype=torch.float32)\n",
    "y_test = torch.tensor(y_test, dtype=torch.float32)"
   ]
  },
  {
   "cell_type": "markdown",
   "id": "3d4355fc-a901-4f35-bade-e31449287eb8",
   "metadata": {},
   "source": [
    "### 3) Implement MLP"
   ]
  },
  {
   "cell_type": "code",
   "execution_count": 8,
   "id": "d799f506-e881-4405-ab78-5db0926cb623",
   "metadata": {},
   "outputs": [],
   "source": [
    "# Define MLP model classes\n",
    "class MLP(nn.Module):\n",
    "    def __init__(self):      # Initialization\n",
    "        super(MLP, self).__init__()\n",
    "        self.layers = nn.Sequential(\n",
    "            nn.Linear(2, 64),   # From the input-layer to the 1st hidden-layer, 2 input characteristics, 64 output neurons\n",
    "            nn.ReLU(),          # First hidden-layer activation function ReLU\n",
    "            nn.Linear(64, 128), # From the first-hidden layer to the 2nd hidden-layer, 64 input neurons, 128 output neurons\n",
    "            nn.ReLU(),          # Second hidden-layer activation function ReLU\n",
    "            nn.Linear(128, 1)   # From the second hidden-layer to the output layer, 128 input neurons, 1 output neuron (predicted value)\n",
    "        )\n",
    "    \n",
    "    def forward(self, x):\n",
    "        return self.layers(x)   # Calculate the final output through sequential layers given input x\n",
    "\n",
    "# Instantiate the model\n",
    "model = MLP()\n",
    "criterion = nn.MSELoss()  # Mean squared error loss function\n",
    "optimizer = optim.Adam(model.parameters(), lr=0.01)  # Adam Optimization Algorithm, Learning Rate 0.01"
   ]
  },
  {
   "cell_type": "code",
   "execution_count": 9,
   "id": "bb5f878a-f638-4ac6-b94d-35985f84d546",
   "metadata": {},
   "outputs": [
    {
     "name": "stdout",
     "output_type": "stream",
     "text": [
      "Epoch 1, Loss: 1.0457535982131958\n",
      "Epoch 11, Loss: 0.3859861493110657\n",
      "Epoch 21, Loss: 0.22093407809734344\n",
      "Epoch 31, Loss: 0.14823555946350098\n",
      "Epoch 41, Loss: 0.11078191548585892\n",
      "Epoch 51, Loss: 0.09195457398891449\n",
      "Epoch 61, Loss: 0.08349984139204025\n",
      "Epoch 71, Loss: 0.06036968529224396\n",
      "Epoch 81, Loss: 0.050022851675748825\n",
      "Epoch 91, Loss: 0.04150298610329628\n"
     ]
    }
   ],
   "source": [
    "# Trainiing loop\n",
    "for epoch in range(100):\n",
    "    model.train()             # Set the model in training mode\n",
    "    optimizer.zero_grad()     # Initialize gradient to zero\n",
    "    outputs = model(X_train)  # Model to make predictions on training data\n",
    "    loss = criterion(outputs, y_train)  # Calculate the loss of predicted and actual values\n",
    "    loss.backward()      # Calculate the gradient based on the loss function\n",
    "    optimizer.step()     # Update the weight of the model using the calculated gradient\n",
    "    if epoch % 10 == 0:\n",
    "        print(f'Epoch {epoch+1}, Loss: {loss.item()}')  # Output current loss every 10 epoxes"
   ]
  },
  {
   "cell_type": "markdown",
   "id": "33200192-30af-48d6-85de-de0b6883aa90",
   "metadata": {},
   "source": [
    "### 4) Evaluation"
   ]
  },
  {
   "cell_type": "code",
   "execution_count": 10,
   "id": "c55b692e-57a4-4b53-b708-a85c0fc1b3cd",
   "metadata": {},
   "outputs": [
    {
     "name": "stdout",
     "output_type": "stream",
     "text": [
      "Calculated Test MSE: 0.0372\n",
      "Calculated R-squared: 0.9620\n"
     ]
    }
   ],
   "source": [
    "# Define funtion to calcuate MSE\n",
    "def calculate_mse(y_true, y_pred):  # actual value, predicted value\n",
    "    return ((y_true - y_pred) ** 2).mean()\n",
    "\n",
    "# Define funtion to calculate R-square \n",
    "def calculate_r_squared(y_true, y_pred): # actual value, predicted value\n",
    "    ss_res = ((y_true - y_pred) ** 2).sum()\n",
    "    ss_tot = ((y_true - y_true.mean()) ** 2).sum()\n",
    "    return 1 - ss_res / ss_tot\n",
    "\n",
    "# evaluation\n",
    "model.eval()  # setting mode\n",
    "with torch.no_grad():\n",
    "    predictions = model(X_test) \n",
    "    mse = calculate_mse(y_test.numpy(), predictions.numpy())   # calculate MSE\n",
    "    r_squared = calculate_r_squared(y_test.numpy(), predictions.numpy())  # calculate R-square\n",
    "\n",
    "print(f'Calculated Test MSE: {mse:.4f}')\n",
    "print(f'Calculated R-squared: {r_squared:.4f}')\n"
   ]
  },
  {
   "cell_type": "markdown",
   "id": "43db461a-b9ef-470d-a112-99ad2405e00f",
   "metadata": {},
   "source": [
    "### 5) Visuallization  \n",
    "$$\\boldsymbol{x_1}\\cdot \\boldsymbol{x_2} \\neq 0 $$"
   ]
  },
  {
   "cell_type": "code",
   "execution_count": null,
   "id": "40642a5e-5b99-4911-bd76-4913e0625149",
   "metadata": {},
   "outputs": [],
   "source": [
    "model.eval()   # Set to Evaluation Mode\n",
    "\n",
    "with torch.no_grad():  # Disable automatic differentiation \n",
    "    predictions = model(X_test).flatten()  # Perform predictions and make them a one-dimensional array\n"
   ]
  },
  {
   "cell_type": "code",
   "execution_count": null,
   "id": "15182df6-5472-4a74-89cb-9fcbd16d87bd",
   "metadata": {},
   "outputs": [],
   "source": [
    "# Visuzlize the Plot of Actual vs Predicted'\n",
    "import matplotlib.pyplot as plt\n",
    "\n",
    "plt.figure(figsize=(10, 5)) # size of graph\n",
    "plt.scatter(y_test.numpy(), predictions.numpy(), alpha=0.5) \n",
    "plt.title('Actual vs Predicted')\n",
    "plt.xlabel('Actual Eastward Wind')\n",
    "plt.ylabel('Predicted Eastward Wind')\n",
    "plt.plot([y_test.min(), y_test.max()], [y_test.min(), y_test.max()], color='red')  # Diagonal line\n",
    "plt.show()\n"
   ]
  },
  {
   "cell_type": "code",
   "execution_count": null,
   "id": "86ad13ec-2b45-44a5-b8c4-c1274ce2c851",
   "metadata": {},
   "outputs": [],
   "source": [
    "# Flatten arrays to ensure they are 1-D\n",
    "predictions_flat = predictions.numpy().flatten()\n",
    "y_test_flat = y_test.numpy().flatten()\n",
    "\n",
    "# Calculate residuals\n",
    "residuals = y_test_flat - predictions_flat\n",
    "\n",
    "# plotting scatter graph of Residuals vs Predicted\n",
    "import matplotlib.pyplot as plt\n",
    "\n",
    "plt.figure(figsize=(10, 5))\n",
    "plt.scatter(predictions_flat, residuals, alpha=0.5)\n",
    "plt.title('Residuals vs Predicted')\n",
    "plt.xlabel('Predicted Eastward Wind')\n",
    "plt.ylabel('Residuals')\n",
    "plt.axhline(0, color='red', linewidth=2)\n",
    "plt.show()\n"
   ]
  },
  {
   "cell_type": "markdown",
   "id": "8b435a6b-8756-46dc-9dc6-0ae1ee62607b",
   "metadata": {},
   "source": [
    "### Reference  \n",
    "* ##### OpenAI. ChatGPT. https://openai.com/chatgpt  \n",
    "* ##### Lecture Notes on Module 7-2-2 Artificial neural network II\n",
    "* ##### Lecture Notes on Module 7-4-1 Regression model evaluation \n",
    "* #####  Yeturu, Jahnavi. (2019). Analysis of weather data using various regression algorithms. 117-141. "
   ]
  }
 ],
 "metadata": {
  "kernelspec": {
   "display_name": "Python 3 (ipykernel)",
   "language": "python",
   "name": "python3"
  },
  "language_info": {
   "codemirror_mode": {
    "name": "ipython",
    "version": 3
   },
   "file_extension": ".py",
   "mimetype": "text/x-python",
   "name": "python",
   "nbconvert_exporter": "python",
   "pygments_lexer": "ipython3",
   "version": "3.9.13"
  }
 },
 "nbformat": 4,
 "nbformat_minor": 5
}
